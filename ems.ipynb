{
 "cells": [
  {
   "cell_type": "code",
   "execution_count": 1,
   "metadata": {},
   "outputs": [],
   "source": [
    "from EMS import EMS\n",
    "from Organization import Organization\n",
    "from Energy import Energy\n",
    "from Hierarchy import Hierarchy\n",
    "from Dataflow import DataFlow\n",
    "import pandas as pd\n",
    "import numpy as np\n",
    "\n",
    "from EMS import EMS\n",
    "from Organization import Organization\n",
    "from Energy import Energy\n",
    "from Hierarchy import Hierarchy\n",
    "from Dataflow import DataFlow\n",
    "\n",
    "import xml.etree.ElementTree as ET\n",
    "from common import readOption, logger\n",
    "from IPython.display import display\n",
    "# Set the maximum number of columns to be displayed to None\n",
    "pd.set_option('display.max_columns', None)"
   ]
  },
  {
   "cell_type": "code",
   "execution_count": 2,
   "id": "140cd839",
   "metadata": {},
   "outputs": [
    {
     "data": {
      "text/html": [
       "<div>\n",
       "<style scoped>\n",
       "    .dataframe tbody tr th:only-of-type {\n",
       "        vertical-align: middle;\n",
       "    }\n",
       "\n",
       "    .dataframe tbody tr th {\n",
       "        vertical-align: top;\n",
       "    }\n",
       "\n",
       "    .dataframe thead th {\n",
       "        text-align: right;\n",
       "    }\n",
       "</style>\n",
       "<table border=\"1\" class=\"dataframe\">\n",
       "  <thead>\n",
       "    <tr style=\"text-align: right;\">\n",
       "      <th></th>\n",
       "      <th>Unnamed: 0</th>\n",
       "      <th>id_x</th>\n",
       "      <th>parent_system_id</th>\n",
       "      <th>name_x</th>\n",
       "      <th>source_key</th>\n",
       "      <th>meter_id</th>\n",
       "      <th>composition_expression</th>\n",
       "      <th>component_of_id</th>\n",
       "      <th>company_id</th>\n",
       "      <th>city_id</th>\n",
       "      <th>city_name</th>\n",
       "      <th>id_y</th>\n",
       "      <th>ref_id</th>\n",
       "      <th>name_y</th>\n",
       "      <th>tenant_id</th>\n",
       "      <th>company</th>\n",
       "      <th>company_code</th>\n",
       "    </tr>\n",
       "  </thead>\n",
       "  <tbody>\n",
       "    <tr>\n",
       "      <th>0</th>\n",
       "      <td>0</td>\n",
       "      <td>16115</td>\n",
       "      <td>NaN</td>\n",
       "      <td>VTC</td>\n",
       "      <td>NaN</td>\n",
       "      <td>NaN</td>\n",
       "      <td>NaN</td>\n",
       "      <td>NaN</td>\n",
       "      <td>311</td>\n",
       "      <td>NaN</td>\n",
       "      <td>NaN</td>\n",
       "      <td>NaN</td>\n",
       "      <td>NaN</td>\n",
       "      <td>NaN</td>\n",
       "      <td>7d353579-07af-5479-bd50-14333cf4eb76</td>\n",
       "      <td>VTC</td>\n",
       "      <td>vtchk</td>\n",
       "    </tr>\n",
       "    <tr>\n",
       "      <th>1</th>\n",
       "      <td>1</td>\n",
       "      <td>16127</td>\n",
       "      <td>16124.0</td>\n",
       "      <td>Sockets and others</td>\n",
       "      <td>Sockets and other</td>\n",
       "      <td>625.0</td>\n",
       "      <td>NaN</td>\n",
       "      <td>NaN</td>\n",
       "      <td>311</td>\n",
       "      <td>2.0</td>\n",
       "      <td>Hong Kong</td>\n",
       "      <td>cf7986d7-25f1-48b0-90c1-c16f44371c1a</td>\n",
       "      <td>16127.0</td>\n",
       "      <td>Sockets and other</td>\n",
       "      <td>7d353579-07af-5479-bd50-14333cf4eb76</td>\n",
       "      <td>VTC</td>\n",
       "      <td>vtchk</td>\n",
       "    </tr>\n",
       "    <tr>\n",
       "      <th>2</th>\n",
       "      <td>2</td>\n",
       "      <td>16148</td>\n",
       "      <td>16120.0</td>\n",
       "      <td>IAQ Sensor 1101</td>\n",
       "      <td>NaN</td>\n",
       "      <td>NaN</td>\n",
       "      <td>NaN</td>\n",
       "      <td>NaN</td>\n",
       "      <td>311</td>\n",
       "      <td>5.0</td>\n",
       "      <td>Hong Kong (School Demo)</td>\n",
       "      <td>NaN</td>\n",
       "      <td>NaN</td>\n",
       "      <td>NaN</td>\n",
       "      <td>7d353579-07af-5479-bd50-14333cf4eb76</td>\n",
       "      <td>VTC</td>\n",
       "      <td>vtchk</td>\n",
       "    </tr>\n",
       "  </tbody>\n",
       "</table>\n",
       "</div>"
      ],
      "text/plain": [
       "   Unnamed: 0   id_x  parent_system_id              name_x         source_key  \\\n",
       "0           0  16115               NaN                 VTC                NaN   \n",
       "1           1  16127           16124.0  Sockets and others  Sockets and other   \n",
       "2           2  16148           16120.0     IAQ Sensor 1101                NaN   \n",
       "\n",
       "   meter_id  composition_expression  component_of_id  company_id  city_id  \\\n",
       "0       NaN                     NaN              NaN         311      NaN   \n",
       "1     625.0                     NaN              NaN         311      2.0   \n",
       "2       NaN                     NaN              NaN         311      5.0   \n",
       "\n",
       "                 city_name                                  id_y   ref_id  \\\n",
       "0                      NaN                                   NaN      NaN   \n",
       "1                Hong Kong  cf7986d7-25f1-48b0-90c1-c16f44371c1a  16127.0   \n",
       "2  Hong Kong (School Demo)                                   NaN      NaN   \n",
       "\n",
       "              name_y                             tenant_id company  \\\n",
       "0                NaN  7d353579-07af-5479-bd50-14333cf4eb76     VTC   \n",
       "1  Sockets and other  7d353579-07af-5479-bd50-14333cf4eb76     VTC   \n",
       "2                NaN  7d353579-07af-5479-bd50-14333cf4eb76     VTC   \n",
       "\n",
       "  company_code  \n",
       "0        vtchk  \n",
       "1        vtchk  \n",
       "2        vtchk  "
      ]
     },
     "execution_count": 2,
     "metadata": {},
     "output_type": "execute_result"
    }
   ],
   "source": [
    "# Specify the path to your CSV file\n",
    "# filepath = \"./output/vtchk/sys_df_after.csv\"\n",
    "# filepath = \"./output/vtchk/sys_df.csv\"\n",
    "filepath = \"./output/vtchk/result_df.csv\"\n",
    "\n",
    "\n",
    "\n",
    "# Read the CSV file into a dataframe using read_csv()\n",
    "df = pd.read_csv(filepath)\n",
    "df[:3]"
   ]
  },
  {
   "cell_type": "code",
   "execution_count": 3,
   "id": "90563a7e",
   "metadata": {},
   "outputs": [],
   "source": [
    "def remove_extra_spaces(text):\n",
    "  \"\"\"Removes extra spaces from a string, including leading, trailing, and multiple spaces between words.\n",
    "\n",
    "  Args:\n",
    "      text: The string to process.\n",
    "\n",
    "  Returns:\n",
    "      A new string with extra spaces removed.\n",
    "  \"\"\"\n",
    "  return \" \".join(text.split()).strip()\n",
    "\n",
    "def is_none_or_nan(value):\n",
    "  return value is None or pd.isnull(value) or value == 'nan' \n",
    "\n",
    "def is_none_or_nan_zero(value):\n",
    "  return value is None or pd.isnull(value) or len(value) == 0 or remove_extra_spaces(str(value)) == '' or value == 'nan'"
   ]
  },
  {
   "cell_type": "code",
   "execution_count": 4,
   "id": "252a6014",
   "metadata": {},
   "outputs": [
    {
     "name": "stdout",
     "output_type": "stream",
     "text": [
      "VTC\n"
     ]
    }
   ],
   "source": [
    "sys_df = df\n",
    "# site\n",
    "for i in range(len(sys_df)):\n",
    "    if np.isnan(sys_df.loc[i, 'parent_system_id']) \\\n",
    "        and is_none_or_nan(sys_df.loc[i, 'component_of_id']):         \n",
    "            print(sys_df.loc[i, \"name_x\"])"
   ]
  },
  {
   "cell_type": "code",
   "execution_count": 8,
   "id": "9dda8c2d",
   "metadata": {},
   "outputs": [
    {
     "name": "stdout",
     "output_type": "stream",
     "text": [
      "16148 IAQ Sensor 1101\n",
      "16214 19/F\n",
      "16149 IAQ Sensor 1107\n",
      "16216 IAQ Sensor- Johnathan Lee's Office\n",
      "16119 11/F\n",
      "16120 1101\n",
      "16124 1107\n"
     ]
    }
   ],
   "source": [
    "# pov\n",
    "# folder system which has no meterid, defined as hierachy.node_pov\n",
    "for i in range(len(sys_df)):\n",
    "    if not is_none_or_nan(sys_df.loc[i, 'parent_system_id']) \\\n",
    "        and is_none_or_nan_zero(str(sys_df.loc[i, 'composition_expression'])) \\\n",
    "        and is_none_or_nan_zero(str(sys_df.loc[i, 'meter_id'])):\n",
    "            print(f\"{sys_df.loc[i, 'id_x']} {sys_df.loc[i, 'name_x']}\")"
   ]
  },
  {
   "cell_type": "code",
   "execution_count": 6,
   "id": "ee164640",
   "metadata": {},
   "outputs": [
    {
     "name": "stdout",
     "output_type": "stream",
     "text": [
      "[POV] id [16127] ce:nan, check-ce:True\n",
      "[POV] id [16127] mi:625.0, check-mi:False\n",
      "[POV] id [16148] ce:nan, check-ce:True\n",
      "[POV] id [16148] mi:nan, check-mi:True\n",
      "[POV] id [16214] ce:nan, check-ce:True\n",
      "[POV] id [16214] mi:nan, check-mi:True\n",
      "[POV] id [16149] ce:nan, check-ce:True\n",
      "[POV] id [16149] mi:nan, check-mi:True\n",
      "[POV] id [16216] ce:nan, check-ce:True\n",
      "[POV] id [16216] mi:nan, check-mi:True\n",
      "[POV] id [16119] ce:nan, check-ce:True\n",
      "[POV] id [16119] mi:nan, check-mi:True\n",
      "[POV] id [16120] ce:nan, check-ce:True\n",
      "[POV] id [16120] mi:nan, check-mi:True\n",
      "[POV] id [16121] ce:nan, check-ce:True\n",
      "[POV] id [16121] mi:626.0, check-mi:False\n",
      "[POV] id [16122] ce:nan, check-ce:True\n",
      "[POV] id [16122] mi:626.0, check-mi:False\n",
      "[POV] id [16123] ce:nan, check-ce:True\n",
      "[POV] id [16123] mi:626.0, check-mi:False\n",
      "[POV] id [16125] ce:nan, check-ce:True\n",
      "[POV] id [16125] mi:625.0, check-mi:False\n",
      "[POV] id [16126] ce:nan, check-ce:True\n",
      "[POV] id [16126] mi:625.0, check-mi:False\n",
      "[POV] id [16124] ce:nan, check-ce:True\n",
      "[POV] id [16124] mi:nan, check-mi:True\n"
     ]
    }
   ],
   "source": [
    "for i in range(len(sys_df)):\n",
    "    if not is_none_or_nan(sys_df.loc[i, 'parent_system_id']):\n",
    "        ot = f\"[POV] id [{sys_df.loc[i, 'id_x']}]\"\n",
    "        ce = str(sys_df.loc[i, 'composition_expression'])\n",
    "        print(f\"{ot} ce:{ce}, check-ce:{is_none_or_nan_zero(ce)}\")\n",
    "        mi = str(sys_df.loc[i, 'meter_id'])\n",
    "        print(f\"{ot} mi:{mi}, check-mi:{is_none_or_nan_zero(mi)}\")"
   ]
  },
  {
   "cell_type": "code",
   "execution_count": null,
   "id": "b391d43f",
   "metadata": {},
   "outputs": [],
   "source": [
    "code = readOption(\"code\")\n",
    "components_binding = readOption(\"components_binding\")        \n",
    "host=readOption(\"databases.organization.host\")\n",
    "port=readOption(\"databases.organization.port\")\n",
    "database=readOption(\"databases.organization.database\")\n",
    "user=readOption(\"databases.organization.username\")\n",
    "password=readOption(\"databases.organization.password\")\n",
    "org = Organization(host=host, port=port, user=user, password=password, database=database)\n",
    "\n",
    "tenant = org.Tenant(code)\n",
    "\n",
    "print(f\"{tenant.name.values[0]} | {tenant.company_code.values[0]} | {tenant.id.values[0]}\")"
   ]
  },
  {
   "cell_type": "code",
   "execution_count": null,
   "id": "6bd8a681",
   "metadata": {},
   "outputs": [],
   "source": [
    "# generate tenant tree in dataflow\n",
    "dataFlow = DataFlow(code, components_binding, simulation=True)\n",
    "df = dataFlow.PreparingData()\n",
    "# df = dataFlow.LoadData()\n",
    "logger.info(\"====================== create_nodes_and_datapoints ==========================\")\n",
    "dataFlow.create_nodes_and_datapoints(df, tenant.id.values[0])"
   ]
  },
  {
   "cell_type": "code",
   "execution_count": null,
   "id": "c267665c",
   "metadata": {},
   "outputs": [],
   "source": [
    "ssd = dataFlow.hr.simulation_sys_df\n",
    "print(ssd.shape)\n",
    "with pd.option_context('display.max_columns', None):\n",
    "    display(ssd[:2])"
   ]
  },
  {
   "cell_type": "code",
   "execution_count": null,
   "id": "78173513",
   "metadata": {},
   "outputs": [],
   "source": [
    "srd = dataFlow.hr.simulation_relations_df\n",
    "print(srd.shape)\n",
    "with pd.option_context('display.max_columns', None):\n",
    "    display(srd[:10])"
   ]
  },
  {
   "cell_type": "code",
   "execution_count": null,
   "id": "d15ef1c4",
   "metadata": {},
   "outputs": [],
   "source": [
    "site_node_id = srd[srd['parent_type']=='SITE']['parent_id'].iloc[0]\n",
    "print(site_node_id)"
   ]
  },
  {
   "cell_type": "code",
   "execution_count": null,
   "id": "8f740fd9",
   "metadata": {},
   "outputs": [],
   "source": [
    "hr = dataFlow.hr\n",
    "logger.debug(\"====================== Simulate TenantTree XML ==========================\")    \n",
    "tenantTree = dataFlow.hr.TenantSimulateTree(\n",
    "                        # tenant.id.values[0],\n",
    "                        site_node_id,\n",
    "                        tenant.name.values[0],\n",
    "                        tenant.company_code.values[0])\n",
    "\n",
    "site_path = f\"./output/{code}\"\n",
    "hr.SaveToXml(tenantTree, f\"{site_path}/sim_new_{code}.xml\") "
   ]
  },
  {
   "cell_type": "code",
   "execution_count": null,
   "id": "1733ef4b",
   "metadata": {},
   "outputs": [],
   "source": [
    "host=readOption(\"databases.ems.host\")\n",
    "port=readOption(\"databases.ems.port\")\n",
    "database=readOption(\"databases.ems.database\")\n",
    "user=readOption(\"databases.ems.username\")\n",
    "password=readOption(\"databases.ems.password\")    \n",
    "\n",
    "logger.debug(\"======================= EMS system tree XML =========================\")\n",
    "ems = EMS(host=host, port=port, user=user, password=password, database=database)\n",
    "company = ems.company(code)\n",
    "\n",
    "# logger.debug(f\"{company.name.values[0]} | {company.code.values[0]} | {company.id.values[0]}\")\n",
    "companyTree = ems.SystemTree(company.id.values[0],\n",
    "                                company.name.values[0],\n",
    "                                company.code.values[0])\n",
    "\n",
    "ems.SaveToXml(companyTree, f\"{site_path}/sim_{code}_system.xml\")"
   ]
  },
  {
   "cell_type": "code",
   "execution_count": null,
   "id": "765ec712",
   "metadata": {},
   "outputs": [],
   "source": [
    "ems = EMS(\"localhost\", \"5432\", \"mangopie\", \"mangopie\", \"mangopie\")"
   ]
  },
  {
   "cell_type": "code",
   "execution_count": null,
   "id": "c7fae744",
   "metadata": {},
   "outputs": [],
   "source": [
    "company_df = ems.company(code=\"cdnis\")\n",
    "print(company_df)"
   ]
  },
  {
   "cell_type": "code",
   "execution_count": null,
   "id": "fc439030",
   "metadata": {},
   "outputs": [],
   "source": [
    "org = Organization()\n",
    "tenant_df = org.Tenant(code=\"cdnis\")\n",
    "\n",
    "print(tenant_df)"
   ]
  },
  {
   "cell_type": "code",
   "execution_count": null,
   "id": "22c58bc2",
   "metadata": {},
   "outputs": [],
   "source": [
    "joined_tenant = pd.merge(company_df, tenant_df, how=\"left\", left_on=\"code\", right_on=\"company_code\")\n",
    "tenant_df = joined_tenant[['id_x', 'id_y', 'name_x', 'code']]\n",
    "\n",
    "new_names = {'id_x': 'company_id', 'id_y': 'tenant_id', 'name_x': 'company', \"code\": 'company_code'}\n",
    "tenant_df = tenant_df.rename(columns=new_names)\n",
    "\n",
    "with pd.option_context('display.max_columns', None):\n",
    "    display(tenant_df[:3])   "
   ]
  },
  {
   "cell_type": "code",
   "execution_count": null,
   "id": "18662fc4",
   "metadata": {},
   "outputs": [],
   "source": [
    "sys_df = ems.systems(code=\"cdnis\")\n",
    "# Set options temporarily within the context of `display()`\n",
    "with pd.option_context('display.max_columns', None):\n",
    "    display(sys_df[:8])"
   ]
  },
  {
   "cell_type": "code",
   "execution_count": null,
   "id": "291a76c4",
   "metadata": {},
   "outputs": [],
   "source": [
    "# sys_df = ems.virtual_systems(code=\"cdnis\")\n",
    "# # Set options temporarily within the context of `display()`\n",
    "# with pd.option_context('display.max_columns', None):\n",
    "#     display(sys_df[:8])"
   ]
  },
  {
   "cell_type": "code",
   "execution_count": null,
   "id": "0ab9f7f8",
   "metadata": {},
   "outputs": [],
   "source": [
    "energy = Energy(\"localhost\", \"5432\", \"energy\", \"energy\", \"energy\")"
   ]
  },
  {
   "cell_type": "code",
   "execution_count": null,
   "id": "55315c77",
   "metadata": {},
   "outputs": [],
   "source": [
    "dp = energy.dataPoint(columns = [\"id\", \"ref_id\", \"name\"])\n",
    "dp[:3]"
   ]
  },
  {
   "cell_type": "code",
   "execution_count": null,
   "id": "a2eb44f7",
   "metadata": {},
   "outputs": [],
   "source": [
    "joined_df = pd.merge(sys_df, dp, how=\"left\", left_on=\"id\", right_on=\"ref_id\")\n",
    "\n",
    "\n",
    "# 查看连接后的DataFrame\n",
    "with pd.option_context('display.max_columns', None):\n",
    "    display(joined_df[:8])\n"
   ]
  },
  {
   "cell_type": "code",
   "execution_count": null,
   "id": "e042c2b6",
   "metadata": {},
   "outputs": [],
   "source": [
    "joined_df.loc[joined_df['id_x'] == int(386)]#[['id_y', 'ref_id']]"
   ]
  },
  {
   "cell_type": "code",
   "execution_count": null,
   "id": "188eb9a5",
   "metadata": {},
   "outputs": [],
   "source": [
    "joined_df.loc[joined_df['source_key'] == 'ML']"
   ]
  },
  {
   "cell_type": "code",
   "execution_count": null,
   "id": "f35dadc1",
   "metadata": {},
   "outputs": [],
   "source": [
    "with pd.option_context('display.max_columns', None):\n",
    "    display(tenant_df[:3])   "
   ]
  },
  {
   "cell_type": "code",
   "execution_count": null,
   "id": "3c047a1f",
   "metadata": {},
   "outputs": [],
   "source": [
    "joined_df = pd.merge(joined_df, tenant_df, how=\"left\", left_on=\"company_id\", right_on=\"company_id\")\n",
    "# 查看连接后的DataFrame\n",
    "with pd.option_context('display.max_columns', None):\n",
    "    display(joined_df[:8])"
   ]
  },
  {
   "cell_type": "code",
   "execution_count": null,
   "id": "51b3e367",
   "metadata": {},
   "outputs": [],
   "source": [
    "def replace_id(df):\n",
    "  \"\"\"\n",
    "  循环替换 DataFrame 中的 {id_xxx}\n",
    "\n",
    "  Args:\n",
    "    df: 输入 DataFrame\n",
    "\n",
    "  Returns:\n",
    "    替换后的 DataFrame\n",
    "  \"\"\"\n",
    "  import re\n",
    "  for i in range(df.shape[0]):\n",
    "    row = df.iloc[i]\n",
    "    composition_expression = row['composition_expression']\n",
    "    for match in re.finditer(r'{id_(\\d+)}', composition_expression):\n",
    "      id_xxx = match.group(1)\n",
    "      use_system_id = df.loc[df['id'] == int(id_xxx), 'use_system_id'].values[0]\n",
    "      composition_expression = composition_expression.replace(match.group(0), \"{id_\"+str(use_system_id)+\"}\")\n",
    "    df.loc[i, 'composition_expression'] = composition_expression\n",
    "\n",
    "  return df\n",
    "\n",
    "# 使用示例\n",
    "df = pd.DataFrame({\n",
    "  'id': [13, 63, 8],\n",
    "  'composition_expression': [\n",
    "    '1 if  {id_13}  >= 3 else 1 if  {id_63}  >= 3 else {id_8}',\n",
    "    '1 if ({id_63}*2)+({id_63}*{id_8})  >= 3 else {id_8}',\n",
    "    '{id_8}'\n",
    "  ],\n",
    "  'use_system_id': [100, 200, 300]\n",
    "})\n",
    "\n",
    "print(df)\n",
    "print(\"----------------------------------------------------------------\")\n",
    "df = replace_id(df)\n",
    "\n",
    "print(df)\n"
   ]
  },
  {
   "cell_type": "code",
   "execution_count": null,
   "id": "e81f7db4",
   "metadata": {},
   "outputs": [],
   "source": [
    "vdp = energy.virtualDataPoint()\n",
    "vdp[:3]"
   ]
  },
  {
   "cell_type": "code",
   "execution_count": null,
   "id": "d9b522e2",
   "metadata": {},
   "outputs": [],
   "source": [
    "sys_df"
   ]
  },
  {
   "cell_type": "code",
   "execution_count": null,
   "id": "b29e3157",
   "metadata": {},
   "outputs": [],
   "source": [
    "hr = Hierarchy()"
   ]
  },
  {
   "cell_type": "code",
   "execution_count": null,
   "id": "e1d1659c",
   "metadata": {},
   "outputs": [],
   "source": [
    "n_dp = hr.nodeDataPoint()\n",
    "\n",
    "with pd.option_context('display.max_columns', None):\n",
    "    display(n_dp[:2])"
   ]
  },
  {
   "cell_type": "code",
   "execution_count": null,
   "id": "22acd909",
   "metadata": {},
   "outputs": [],
   "source": [
    "n_pov = hr.nodePov()\n",
    "with pd.option_context('display.max_columns', None):\n",
    "    display(n_pov[:2])"
   ]
  },
  {
   "cell_type": "code",
   "execution_count": null,
   "id": "88953f3a",
   "metadata": {},
   "outputs": [],
   "source": [
    "n_site = hr.nodeSite()\n",
    "with pd.option_context('display.max_columns', None):\n",
    "    display(n_site[:2])"
   ]
  },
  {
   "cell_type": "code",
   "execution_count": null,
   "id": "312473aa",
   "metadata": {},
   "outputs": [],
   "source": [
    "n_relations = hr.nodeRelations()\n",
    "with pd.option_context('display.max_columns', None):\n",
    "    display(n_relations[:2])"
   ]
  },
  {
   "cell_type": "code",
   "execution_count": null,
   "id": "d5a4d066",
   "metadata": {},
   "outputs": [],
   "source": [
    "# tenantTree = hr.TenantTree(\"c93789d6-d78e-5382-8817-c3917ca879be\")\n",
    "# tenantTree"
   ]
  }
 ],
 "metadata": {
  "kernelspec": {
   "display_name": "py36",
   "language": "python",
   "name": "python3"
  },
  "language_info": {
   "codemirror_mode": {
    "name": "ipython",
    "version": 3
   },
   "file_extension": ".py",
   "mimetype": "text/x-python",
   "name": "python",
   "nbconvert_exporter": "python",
   "pygments_lexer": "ipython3",
   "version": "3.10.0"
  }
 },
 "nbformat": 4,
 "nbformat_minor": 5
}
